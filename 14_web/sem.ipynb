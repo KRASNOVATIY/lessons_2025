{
 "cells": [
  {
   "cell_type": "markdown",
   "id": "49cbaa71",
   "metadata": {},
   "source": [
    "## Задача 1\n",
    " \n",
    " Есть модуль `hident.py`, который содержит логику обработки криптографических хешей. Функция `identify_hashes(input_hash)` позволяет узнать алгоритм хеширования по виду самого хеша, корутина `long_solve_hash(input_hash, alg)` имитирует работу 'обратного преобразования' хеша ([как это?](https://hashcat.net/hashcat/)), то есть позволяет восстановить секретное слово\n",
    " \n",
    " Требуется на [aiohttp](https://docs.aiohttp.org/en/stable/web.html) разработать приложение (сервер), которое будет иметь 2 ручки:\n",
    " - для вычисления возможного алгоритма хеширования по хешу `host:port/define/{hash}`\n",
    " - для вычисления секретного слова `host:port/solve?hash={hash}&algorithm={algorithm}`\n",
    " \n",
    " Напишите клиента, который будет использовать сервер:\n",
    " - отправлять 1 любой хеш, например `c4ca4238a0b923820dcc509a6f75849b`, получать его возможные алгоритмы \n",
    " - по каждому алгоритму вычислять секретное слово\n",
    " \n",
    " Подсказки:\n",
    " - вам потребуются только GET запросы\n",
    " - смотрите атрибуты запроса `Request.match_info` и `Request.query` https://docs.aiohttp.org/en/stable/web_reference.html#request-and-base-request\n",
    " - посмотрите пример сервера с предыдущего занятия"
   ]
  }
 ],
 "metadata": {
  "kernelspec": {
   "display_name": "Python 3 (ipykernel)",
   "language": "python",
   "name": "python3"
  },
  "language_info": {
   "codemirror_mode": {
    "name": "ipython",
    "version": 3
   },
   "file_extension": ".py",
   "mimetype": "text/x-python",
   "name": "python",
   "nbconvert_exporter": "python",
   "pygments_lexer": "ipython3",
   "version": "3.11.3"
  }
 },
 "nbformat": 4,
 "nbformat_minor": 5
}
