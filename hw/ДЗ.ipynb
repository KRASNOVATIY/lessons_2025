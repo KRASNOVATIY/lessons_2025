{
 "cells": [
  {
   "cell_type": "markdown",
   "id": "5ef63dd8",
   "metadata": {},
   "source": [
    "## Реализации различных хранилищ с асинхронностью\n",
    "\n",
    "Известно что компоненты должны зависеть не от реализаций, а от интерфейсов.\n",
    "\n",
    "Имеется некоторое приложение app.py, которое будет осуществлять работу с аккаунтами. Основной класс этого приложения `AccountManager` зависит от храналища аккаунтов, интерфейс которого предоставлен `AccountsStorageProtocol`. Необходимо написать 3 реализации хранилища, соответсвенно `AccountsPostgresStorage`, `AccountsMongoStorage` и `AccountsRedisStorage`. Для того чтобы убедиться в том что реализации работают правильно, достаточно запустить app.py: сработает тестовая функция `test_main`\n",
    "\n",
    "У приложения есть также тестовая реализация test_app.py и она уже работает, правда использует вместо настоящего персистентного хранилища заглушку MockAccountsStorage. Из MockAccountsStorage можно стащить часть логики\n",
    "\n",
    "Можете добавлять в ваши реализации любые методы, помните что для соответствия интерфейсу достаточно соблюдать только сигнатуры из протокола\n",
    "\n",
    "\n",
    "Для ознакомления с API Баз данных, смотри документацию (и материал лекции):\n",
    "\n",
    "    https://www.psycopg.org/docs/\n",
    "    https://redis.readthedocs.io/en/latest/\n",
    "    https://pymongo.readthedocs.io/en/stable/\n",
    "    \n",
    "Сами базы данных можно установить локально при помощи Docker\n",
    "- https://hub.docker.com/_/postgres\n",
    "- https://hub.docker.com/_/mongo\n",
    "- https://hub.docker.com/_/redis\n",
    "\n",
    "Также требуется реализовать асинхронный вариан для каждой из реализаций и переписать `AccountManager` и `test_main` так, чтобы они использовали преимущества асинхронной работы"
   ]
  },
  {
   "cell_type": "markdown",
   "id": "75bd115f",
   "metadata": {},
   "source": [
    "## Распределённая блокировка\n",
    "\n",
    "Стандартная ситуация, когда над одной задачей работают несколько воркеров, и в процессе обработки, эти воркеры должны обращаться к общему ресурсу. Допустим, 1млн хешей обсчитываются 10-ю физическими машинами и скидывают результаты своей работы в 1 файл. Что будет если 2 машины одновременно откроют файл на добавление и положат в него новые данные? Правильно - одна машина перезапишет результата работы второй машины ... или наоборот. Для того чтобы такого не происходило, используется механизм распределённой блокировки: машина, которая будет готова положить результат своей работы, сначала попробует установить блокировку\n",
    "- в случае успеха, машина сделает необходимую работу и отпустит блокировку\n",
    "- в случае если блокировка уже кем-то поставлена, машина будет ожидать\n",
    "Распределённая блокировка может быть реализована с использованием любого внешнего хранилища, обычно применяется redis"
   ]
  },
  {
   "cell_type": "markdown",
   "id": "89ccb722",
   "metadata": {},
   "source": [
    "Требуется реализовать распределённую блокировку на \n",
    "- redis\n",
    "- mongoDB\n",
    "- postgreSQL\n",
    "такую, чтобы с любой из реализаций, работал следующий код:"
   ]
  },
  {
   "cell_type": "code",
   "execution_count": null,
   "id": "c2bb7d9a",
   "metadata": {},
   "outputs": [],
   "source": [
    "import time\n",
    "from concurrent.futures import ThreadPoolExecutor\n",
    "\n",
    "mu = Lock()  # вот его нужно реализовать\n",
    "result = 0\n",
    "\n",
    "def function():\n",
    "     with mu:\n",
    "        global result\n",
    "        r = result\n",
    "        time.sleep(1)\n",
    "        result = r + 1\n",
    "\n",
    "    \n",
    "def main():  \n",
    "    with ThreadPoolExecutor(max_workers=5) as executor:\n",
    "        for _ in range(10):\n",
    "            executor.submit(function)\n",
    "    print(result)  # хотим получить в итоге 10\n",
    "    \n",
    "main()"
   ]
  },
  {
   "cell_type": "markdown",
   "id": "5617dd4f",
   "metadata": {},
   "source": [
    "## Асинхронное взаимодействие\n",
    "\n",
    "Есть модуль `hident.py`, который содержит логику обработки криптографических хешей. Функция `identify_hashes(input_hash)` позволяет узнать алгоритм хеширования по виду самого хеша, корутина `long_solve_hash(input_hash, alg)` имитирует работу 'обратного преобразования' хеша ([как это?](https://hashcat.net/hashcat/)), то есть позволяет восстановить секретное слово\n",
    " \n",
    " Требуется на [aiohttp](https://docs.aiohttp.org/en/stable/web.html) разработать приложение (сервер), которое будет иметь 3 ручки:\n",
    " - для вычисления возможного алгоритма хеширования по хешу `host:port/define/{hash}`\n",
    " - 2 ручки для асинхронного вычисления секретного слова (нужен именно асинхронный вариант, так как long_solve_hash работает очень долго - представьте надоедливое вращающееся колёсико загрузки, которое было бы в синхронном варианте)\n",
    "     - `host:port/createSolveTask?hash={hash}&algorithm={algorithm}`\n",
    "     - `host:port/getPassword?taskId={tid}`\n",
    " \n",
    " Напишите клиента, который будет использовать сервер:\n",
    " - отправлять 1 любой хеш, например `c4ca4238a0b923820dcc509a6f75849b`, получать его возможные алгоритмы \n",
    " - по каждому алгоритму вычислять секретное слово\n",
    " \n",
    " Полностью контракт сервиса может выглядеть так:\n",
    " ```go\n",
    "rpc createSolveTask (CreateSolveTaskIn) CreateSolveTaskOut `Создать задачу на преобразование хеша`\n",
    "\n",
    "message CreateSolveTaskIn  {inputHash string, alg string}\n",
    "message CreateSolveTaskOut {taskId int}\n",
    "\n",
    "rpc getPassword (GetPasswordIn) GetPasswordOut `Получить результат преобразования`\n",
    "\n",
    "message GetPasswordIn      {taskId int}\n",
    "message GetPasswordOut     {password *string, err *Error}\n",
    "\n",
    "rpc define (DefineIn) DefineOut `Определить алгоритм`\n",
    "\n",
    "message DefineIn      {hash string}\n",
    "message DefineOut     {algs []string}\n",
    "\n",
    "message Error              {code int, message string}  `допустимые значения в ErrCode, ErrMessage`\n",
    "const ErrCode {\n",
    "    ERR_TASK_NOT_FOUND          = 1000\n",
    "    ERR_TASK_NOT_FINISHED       = 1001\n",
    "}\n",
    "const ErrMessage {\n",
    "    ERR_TASK_NOT_FOUND          = \"task not found\"\n",
    "    ERR_TASK_NOT_FINISHED       = \"task not finished\"\n",
    "}\n",
    "```"
   ]
  },
  {
   "cell_type": "code",
   "execution_count": null,
   "id": "04e90034",
   "metadata": {},
   "outputs": [],
   "source": []
  }
 ],
 "metadata": {
  "kernelspec": {
   "display_name": "Python 3 (ipykernel)",
   "language": "python",
   "name": "python3"
  },
  "language_info": {
   "codemirror_mode": {
    "name": "ipython",
    "version": 3
   },
   "file_extension": ".py",
   "mimetype": "text/x-python",
   "name": "python",
   "nbconvert_exporter": "python",
   "pygments_lexer": "ipython3",
   "version": "3.11.3"
  }
 },
 "nbformat": 4,
 "nbformat_minor": 5
}
