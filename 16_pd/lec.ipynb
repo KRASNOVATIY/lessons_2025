{
 "cells": [
  {
   "cell_type": "markdown",
   "metadata": {},
   "source": [
    "# Pandas\n",
    "\n",
    "Структура занятия:\n",
    "\n",
    "1) Введение\n",
    "2) Типы данных\n",
    "3) Операции над данными\n",
    "4) Агрегирование и группировка"
   ]
  },
  {
   "cell_type": "markdown",
   "metadata": {},
   "source": [
    "## Введение\n",
    "\n",
    "[Pandas](https://pandas.pydata.org/docs/) — программная библиотека на языке Python для обработки и анализа данных. Работа pandas с данными строится поверх библиотеки NumPy. \n",
    "\n",
    "Основные наборы данных Pandas типов DataFrame и Series применяются в качестве входных в большинстве модулей анализа данных и машинного обучения\n",
    "\n",
    "Массивы NumPy представляют множество возможностей для работы с полными данными в задачах численных вычислений, однако имеют ограничения при работе с неполными (часть значений отсутствует), неподготовленными (разные типы или единицы изменрения), немаркированными данными."
   ]
  },
  {
   "cell_type": "code",
   "execution_count": null,
   "metadata": {},
   "outputs": [],
   "source": [
    "pip install pandas"
   ]
  },
  {
   "cell_type": "code",
   "execution_count": null,
   "metadata": {},
   "outputs": [],
   "source": [
    "import pandas as pd\n",
    "import numpy as np"
   ]
  },
  {
   "cell_type": "markdown",
   "metadata": {},
   "source": [
    "## Типы данных\n",
    "\n",
    "На начальном уровне можно считать объекты Pandas расширенной версией структурированных массивов NumPy. Основные структуры Pandas:\n",
    "- Series - одномерный массив индексированных данных\n",
    "- DataFrame - обобщённый массив индексированных данных\n",
    "- Index - массив индексов"
   ]
  },
  {
   "cell_type": "markdown",
   "metadata": {},
   "source": [
    "**Series** может быть создан из списка"
   ]
  },
  {
   "cell_type": "code",
   "execution_count": null,
   "metadata": {},
   "outputs": [],
   "source": [
    "s = pd.Series([1, 2, 3, 4.0])\n",
    "s"
   ]
  },
  {
   "cell_type": "code",
   "execution_count": null,
   "metadata": {},
   "outputs": [],
   "source": [
    "s.values  # массив NumPy"
   ]
  },
  {
   "cell_type": "code",
   "execution_count": null,
   "metadata": {},
   "outputs": [],
   "source": [
    "s.index  # массив pd.Index"
   ]
  },
  {
   "cell_type": "code",
   "execution_count": null,
   "metadata": {},
   "outputs": [],
   "source": [
    "s[1]"
   ]
  },
  {
   "cell_type": "code",
   "execution_count": null,
   "metadata": {},
   "outputs": [],
   "source": [
    "s[1:3]"
   ]
  },
  {
   "cell_type": "markdown",
   "metadata": {},
   "source": [
    "За счёт связи с явным индексом, объек Series значительно гибче нежели массив NumPy. Индекс Series может состоять из значений любого типа и не обязательно должен быть последовательным"
   ]
  },
  {
   "cell_type": "code",
   "execution_count": null,
   "metadata": {},
   "outputs": [],
   "source": [
    "s = pd.Series([1, 2, 3, '4'], index=['f', 's', 't', 'f'])\n",
    "s"
   ]
  },
  {
   "cell_type": "code",
   "execution_count": null,
   "metadata": {},
   "outputs": [],
   "source": [
    "s['f']"
   ]
  },
  {
   "cell_type": "markdown",
   "metadata": {},
   "source": [
    "Таким образом, структура чем-то напоминает словарь Python (за исключением, возможности задать повторяющиеся ключи в словаре), более того, Series может быть напрямую создан из словаря"
   ]
  },
  {
   "cell_type": "code",
   "execution_count": null,
   "metadata": {},
   "outputs": [],
   "source": [
    "capitals = pd.Series({'Russia': 'Moscow', 'China': 'Beijing'})\n",
    "capitals"
   ]
  },
  {
   "cell_type": "markdown",
   "metadata": {},
   "source": [
    "**DataFrame** может быть рассморен как обобщённый (n-мерный) массив NumPy"
   ]
  },
  {
   "cell_type": "code",
   "execution_count": null,
   "metadata": {},
   "outputs": [],
   "source": [
    "population = pd.Series({'Russia': 144_000_000, 'China': 1_440_000_000})\n",
    "countries = pd.DataFrame({'population': population, 'capitals': capitals})\n",
    "countries"
   ]
  },
  {
   "cell_type": "markdown",
   "metadata": {},
   "source": [
    "DataFrame содержит множество атрибутов, рассмотрим некоторые из них"
   ]
  },
  {
   "cell_type": "code",
   "execution_count": null,
   "metadata": {},
   "outputs": [],
   "source": [
    "# метки столбцов\n",
    "countries.columns"
   ]
  },
  {
   "cell_type": "code",
   "execution_count": null,
   "metadata": {},
   "outputs": [],
   "source": [
    "# метки индекса или строк\n",
    "countries.index"
   ]
  },
  {
   "cell_type": "code",
   "execution_count": null,
   "metadata": {},
   "outputs": [],
   "source": [
    "# элементы\n",
    "countries.values"
   ]
  },
  {
   "cell_type": "code",
   "execution_count": null,
   "metadata": {},
   "outputs": [],
   "source": [
    "# тоже что и индексы\n",
    "countries.keys()"
   ]
  },
  {
   "cell_type": "markdown",
   "metadata": {},
   "source": [
    "Обратим внимание на то что 'доступ по ключу' осуществляется не к строкам данных (к конкретным элементам), а к столбцам! Таким образом, можно рассматривать объект типа DataFrame как специализированный словарь."
   ]
  },
  {
   "cell_type": "code",
   "execution_count": null,
   "metadata": {},
   "outputs": [],
   "source": [
    "countries['population']"
   ]
  },
  {
   "cell_type": "code",
   "execution_count": null,
   "metadata": {},
   "outputs": [],
   "source": [
    "countries['Russia']"
   ]
  },
  {
   "cell_type": "markdown",
   "metadata": {},
   "source": [
    "Объект DataFrame может быть создан из одного объекта Series, из списка словарей, из словаря объектов Series, из 2х мерного массива NumPy или из структурированного массива NumPy"
   ]
  },
  {
   "cell_type": "markdown",
   "metadata": {},
   "source": [
    "**Index** - неизменяемый массив индексов, очень похожий по функционалу на массив NumPy, с тем отличием, что индексы невозможно модифицировать стандартными способами. Неизменяемость служит безопасному использованию индекса, его жёсткой привязке к объектам DataFrame."
   ]
  },
  {
   "cell_type": "code",
   "execution_count": null,
   "metadata": {},
   "outputs": [],
   "source": [
    "towns = pd.read_csv('towns.csv', index_col='city')  # возможно мы потеряли какие-то города =("
   ]
  },
  {
   "cell_type": "code",
   "execution_count": null,
   "metadata": {},
   "outputs": [],
   "source": [
    "towns"
   ]
  },
  {
   "cell_type": "markdown",
   "metadata": {},
   "source": [
    "Давайте сразу удалим колонки, которые нам не нужны"
   ]
  },
  {
   "cell_type": "code",
   "execution_count": null,
   "metadata": {},
   "outputs": [],
   "source": [
    "towns[3:7]"
   ]
  },
  {
   "cell_type": "code",
   "execution_count": null,
   "metadata": {},
   "outputs": [],
   "source": [
    "towns[towns['population'] >= 1000]"
   ]
  },
  {
   "cell_type": "code",
   "execution_count": null,
   "metadata": {},
   "outputs": [],
   "source": [
    "towns.region_name"
   ]
  },
  {
   "cell_type": "code",
   "execution_count": null,
   "metadata": {},
   "outputs": [],
   "source": [
    "towns.sort_values('population', ascending=False)"
   ]
  },
  {
   "cell_type": "code",
   "execution_count": null,
   "metadata": {},
   "outputs": [],
   "source": [
    "towns.T"
   ]
  },
  {
   "cell_type": "markdown",
   "metadata": {},
   "source": [
    "Существует 2 вида индексаторов:\n",
    "- `.loc` - индексация и срезы с использованием явного индекса\n",
    "- `.iloc` - с использованием неявного индекса в стиле Python"
   ]
  },
  {
   "cell_type": "code",
   "execution_count": null,
   "metadata": {},
   "outputs": [],
   "source": [
    "towns.loc[:'Москва', :'region_name']"
   ]
  },
  {
   "cell_type": "code",
   "execution_count": null,
   "metadata": {},
   "outputs": [],
   "source": [
    "towns.iloc[:413, :4]"
   ]
  },
  {
   "cell_type": "code",
   "execution_count": null,
   "metadata": {},
   "outputs": [],
   "source": [
    "towns.loc[(towns.population > 1000) & (towns.population < 2000), ['region_name', 'federal_district']]"
   ]
  },
  {
   "cell_type": "markdown",
   "metadata": {},
   "source": [
    "## Операции над данными\n",
    "\n",
    "Как и в случае с NumPy, Pandas позволяет оперировать над данными с помощью универсальныйх функций. При использовании унарных функций (изменение знака, тригонометрия) индексы будут сохранены, а при использовании бинарных - Pandas будет автоматически выравнивать индексы. "
   ]
  },
  {
   "cell_type": "code",
   "execution_count": null,
   "metadata": {},
   "outputs": [],
   "source": [
    "A = pd.DataFrame([[1,2,0],[1,2,3],[1,2,3]])\n",
    "B = pd.DataFrame([[1,2,0],[1,2],[1,2,]])\n",
    "C = A + B  # срабатывает выравнивание индекса\n",
    "C"
   ]
  },
  {
   "cell_type": "markdown",
   "metadata": {},
   "source": [
    "Обратите внимание на то, как Pandas работает с отсутствующими данными, в данном случае он просто заменяет их на NaN, что в общем случае эквивалентно `None`\n",
    "\n",
    "Что можно сделать с пустыми значениями:\n",
    "- выявить `.isnull()`, `.notnull()`\n",
    "- удалить `.dropna`\n",
    "- заполнить `.fillna`"
   ]
  },
  {
   "cell_type": "code",
   "execution_count": null,
   "metadata": {},
   "outputs": [],
   "source": [
    "C.notnull()"
   ]
  },
  {
   "cell_type": "code",
   "execution_count": null,
   "metadata": {},
   "outputs": [],
   "source": [
    "C.dropna()"
   ]
  },
  {
   "cell_type": "code",
   "execution_count": null,
   "metadata": {},
   "outputs": [],
   "source": [
    "C.dropna(axis=1)"
   ]
  },
  {
   "cell_type": "code",
   "execution_count": null,
   "metadata": {},
   "outputs": [],
   "source": [
    "C.dropna(how='any')  # 'all'"
   ]
  },
  {
   "cell_type": "code",
   "execution_count": null,
   "metadata": {},
   "outputs": [],
   "source": [
    "C.fillna(0)"
   ]
  },
  {
   "cell_type": "markdown",
   "metadata": {},
   "source": [
    "Pandas позволяет управлять индексами в уже готовых объектах, например, можно выставить простой инкрементальный индекс и вернуть текущий в колонку данных "
   ]
  },
  {
   "cell_type": "code",
   "execution_count": null,
   "metadata": {},
   "outputs": [],
   "source": [
    "towns = towns.reset_index()\n",
    "towns"
   ]
  },
  {
   "cell_type": "markdown",
   "metadata": {},
   "source": [
    "При помощи индексов можно задавать для данных дополнительные измерения. Создадим **мультииндекс**, при этом, порядок выбираем от общего к частному... это необязательно, порядок может быть любым, и будет зависеть от желаемой группировки"
   ]
  },
  {
   "cell_type": "code",
   "execution_count": null,
   "metadata": {},
   "outputs": [],
   "source": [
    "towns = towns.set_index(['federal_district', 'region_name', 'city'])\n",
    "towns"
   ]
  },
  {
   "cell_type": "markdown",
   "metadata": {},
   "source": [
    "Теперь можно работать с данными, используя составной индекс"
   ]
  },
  {
   "cell_type": "code",
   "execution_count": null,
   "metadata": {},
   "outputs": [],
   "source": [
    "towns.loc[('Сибирский', 'Алтайский край', 'Барнаул'), :]"
   ]
  },
  {
   "cell_type": "code",
   "execution_count": null,
   "metadata": {},
   "outputs": [],
   "source": [
    "towns.loc[('Сибирский', 'Алтайский край'), :]"
   ]
  },
  {
   "cell_type": "code",
   "execution_count": null,
   "metadata": {
    "tags": []
   },
   "outputs": [],
   "source": [
    "towns.loc[('Сибирский'), :]"
   ]
  },
  {
   "cell_type": "code",
   "execution_count": null,
   "metadata": {},
   "outputs": [],
   "source": [
    "towns = towns.reset_index()"
   ]
  },
  {
   "cell_type": "markdown",
   "metadata": {},
   "source": [
    "Одно из выжнейших свойств Pandas - её высокопроизводительные операции соединения и слияния данных. Основной интерфейс `pd.merge`, реализует множество типов соединений: один-к-одному / многие-к-одному / многие-ко-многим. Тип будет зависеть от входных данных: слияние может быть произведено по колонкам с одинаковыми именами, или по указанным вручную колонкам (с импользованием аргументов `on`, `left_on`, `right_on`), или даже по индексам (`left_index`, `right_index`). \n",
    "\n",
    "Более продвинутая работа со слиянием напоминает работу с реляционными данными, можно также задать метод соединения при помощи аргумента `how`, возможные варианты: `inner`, `outer`, `left`, `right`"
   ]
  },
  {
   "cell_type": "markdown",
   "metadata": {},
   "source": [
    "Создадим более сложный датафрейм данных, обогатив изначальные данные по городам информацией по регионам"
   ]
  },
  {
   "cell_type": "code",
   "execution_count": null,
   "metadata": {},
   "outputs": [],
   "source": [
    "regions = pd.read_csv('regions.csv', index_col='Субъект', delimiter=';')"
   ]
  },
  {
   "cell_type": "code",
   "execution_count": null,
   "metadata": {
    "tags": []
   },
   "outputs": [],
   "source": [
    "regions"
   ]
  },
  {
   "cell_type": "code",
   "execution_count": null,
   "metadata": {},
   "outputs": [],
   "source": [
    "regions['region_name'] = regions.index  # создадим колонку с именем, как в датафрейме с городами "
   ]
  },
  {
   "cell_type": "code",
   "execution_count": null,
   "metadata": {
    "tags": []
   },
   "outputs": [],
   "source": [
    "regions"
   ]
  },
  {
   "cell_type": "code",
   "execution_count": null,
   "metadata": {},
   "outputs": [],
   "source": [
    "regions_s = set(regions['region_name'].unique())"
   ]
  },
  {
   "cell_type": "code",
   "execution_count": null,
   "metadata": {},
   "outputs": [],
   "source": [
    "towns_s = set(towns['region_name'].unique())"
   ]
  },
  {
   "cell_type": "code",
   "execution_count": null,
   "metadata": {},
   "outputs": [],
   "source": [
    "regions_s.difference(towns_s)"
   ]
  },
  {
   "cell_type": "code",
   "execution_count": null,
   "metadata": {},
   "outputs": [],
   "source": [
    "towns_s.difference(regions_s)"
   ]
  },
  {
   "cell_type": "code",
   "execution_count": null,
   "metadata": {},
   "outputs": [],
   "source": [
    "regions.loc['Кабардино-Балкария', 'region_name'] = 'Кабардино-Балкарская Республика'\n",
    "regions.loc['Карачаево-Черкесия', 'region_name'] = 'Карачаево-Черкесская Республика'\n",
    "regions.loc['Кемеровская область', 'region_name'] = 'Кемеровская область - Кузбасс'\n",
    "regions.loc['Тюменская область с ХМАО и ЯНАО', 'region_name'] = 'Тюменская область'\n",
    "regions.loc['Архангельская область включая НАО', 'region_name'] = 'Архангельская область'"
   ]
  },
  {
   "cell_type": "code",
   "execution_count": null,
   "metadata": {},
   "outputs": [],
   "source": [
    "regions.rename({'округ': 'federal_district', 'площадь': 'region_area', 'процент': 'region_size_percent'}, axis=1, inplace=True)"
   ]
  },
  {
   "cell_type": "code",
   "execution_count": null,
   "metadata": {},
   "outputs": [],
   "source": [
    "regions"
   ]
  },
  {
   "cell_type": "code",
   "execution_count": null,
   "metadata": {},
   "outputs": [],
   "source": [
    "towns_extended = pd.merge(towns, regions, how='left')  # объединим датафреймы по колонкам с одинковыми названиями"
   ]
  },
  {
   "cell_type": "code",
   "execution_count": null,
   "metadata": {},
   "outputs": [],
   "source": [
    "towns_extended"
   ]
  },
  {
   "cell_type": "markdown",
   "metadata": {},
   "source": [
    "Так как мы выбрали левое соедиенение, данные в towns не пропали, несмотря на то что им не нашлось соответствия из regions. Все поля из regions были заменены на NaN, найдём их по одному из полей"
   ]
  },
  {
   "cell_type": "code",
   "execution_count": null,
   "metadata": {},
   "outputs": [],
   "source": [
    "towns_extended[towns_extended.region_area.isnull()]"
   ]
  },
  {
   "cell_type": "markdown",
   "metadata": {},
   "source": [
    "## Агрегирование и группировка\n",
    "\n",
    "Важная часть анализа данных - эффективное обощение: вычисление сводных показателей, в которых одно число позволяет понять природу всего набора данных\n",
    "\n",
    "Установим пакет `seaborn`, который содержит множество интересных наборов данных\n",
    "\n",
    "https://science.nasa.gov/exoplanets/exoplanet-catalog/"
   ]
  },
  {
   "cell_type": "code",
   "execution_count": null,
   "metadata": {},
   "outputs": [],
   "source": [
    "pip install seaborn"
   ]
  },
  {
   "cell_type": "code",
   "execution_count": null,
   "metadata": {},
   "outputs": [],
   "source": [
    "import seaborn as sn"
   ]
  },
  {
   "cell_type": "code",
   "execution_count": null,
   "metadata": {},
   "outputs": [],
   "source": [
    "planets = sn.load_dataset('planets')"
   ]
  },
  {
   "cell_type": "code",
   "execution_count": null,
   "metadata": {},
   "outputs": [],
   "source": [
    "planets.shape"
   ]
  },
  {
   "cell_type": "code",
   "execution_count": null,
   "metadata": {},
   "outputs": [],
   "source": [
    "planets.sort_values('year')"
   ]
  },
  {
   "cell_type": "markdown",
   "metadata": {},
   "source": [
    "Метод `.describe` вычисляет сразу несколько самых используемых сводных показателей для каждого столбца"
   ]
  },
  {
   "cell_type": "code",
   "execution_count": null,
   "metadata": {},
   "outputs": [],
   "source": [
    "planets.describe()"
   ]
  },
  {
   "cell_type": "markdown",
   "metadata": {},
   "source": [
    "Объекты Pandas имеют набор простых агрегирующих методов, таких как `.count()`, `.mean()`, `.min()`, `.max()`, `.std()`, `.sum()`, `.prod()`. \n",
    "\n",
    "Более глубокое исследование обобщённых данных достигается при помощи операции `groupby`, которая производит разбиение (по ключу), применение (какой-либо функции) и объединение (результатов)"
   ]
  },
  {
   "cell_type": "code",
   "execution_count": null,
   "metadata": {},
   "outputs": [],
   "source": [
    "planets.groupby('method')['orbital_period'].mean()"
   ]
  },
  {
   "cell_type": "code",
   "execution_count": null,
   "metadata": {},
   "outputs": [],
   "source": [
    "planets.groupby('method')['orbital_period'].describe()"
   ]
  },
  {
   "cell_type": "markdown",
   "metadata": {},
   "source": [
    "Можно создавать сводные таблицы (обыно на многомерном индексе)"
   ]
  },
  {
   "cell_type": "code",
   "execution_count": null,
   "metadata": {},
   "outputs": [],
   "source": [
    "planets.pivot_table('number', index='year', columns='method', aggfunc='count')"
   ]
  },
  {
   "cell_type": "markdown",
   "metadata": {},
   "source": [
    "Мощным средством группировок являются временные ряды. Для того чтобы их использвать, необходимо привести данные к форматц даты и времени."
   ]
  },
  {
   "cell_type": "code",
   "execution_count": null,
   "metadata": {},
   "outputs": [],
   "source": [
    "planets['date'] = pd.to_datetime(planets['year'], format='%Y')"
   ]
  },
  {
   "cell_type": "code",
   "execution_count": null,
   "metadata": {},
   "outputs": [],
   "source": [
    "planets"
   ]
  },
  {
   "cell_type": "code",
   "execution_count": null,
   "metadata": {},
   "outputs": [],
   "source": [
    "planets_copy = planets.copy()"
   ]
  },
  {
   "cell_type": "code",
   "execution_count": null,
   "metadata": {},
   "outputs": [],
   "source": [
    "import matplotlib.pyplot as plt\n",
    "import matplotlib as mpl"
   ]
  },
  {
   "cell_type": "code",
   "execution_count": null,
   "metadata": {},
   "outputs": [],
   "source": [
    "planets_pt = planets_copy.pivot_table('number', index='date', columns='method', aggfunc='count')\n",
    "planets_pt.plot()"
   ]
  },
  {
   "cell_type": "code",
   "execution_count": null,
   "metadata": {},
   "outputs": [],
   "source": [
    "fig, ax = plt.subplots(2, sharex=True)\n",
    "planets_pt.asfreq('2A', method='ffill').plot(ax=ax[0], style='--.')  # 'A' - код годовой периодичности\n",
    "planets_pt.asfreq('2A', method='bfill').plot(ax=ax[1], style='-.')\n",
    "ax[1].legend(['back-fill'])\n",
    "ax[0].legend(['front-fill'])"
   ]
  },
  {
   "cell_type": "markdown",
   "metadata": {},
   "source": [
    "## Визуализация"
   ]
  },
  {
   "cell_type": "code",
   "execution_count": null,
   "metadata": {},
   "outputs": [],
   "source": [
    "towns_extended"
   ]
  },
  {
   "cell_type": "code",
   "execution_count": null,
   "metadata": {},
   "outputs": [],
   "source": [
    "plt.scatter('lon', 'lat', data=towns_extended, s='population', alpha=0.2)"
   ]
  },
  {
   "cell_type": "code",
   "execution_count": null,
   "metadata": {},
   "outputs": [],
   "source": []
  }
 ],
 "metadata": {
  "kernelspec": {
   "display_name": "Python 3 (ipykernel)",
   "language": "python",
   "name": "python3"
  },
  "language_info": {
   "codemirror_mode": {
    "name": "ipython",
    "version": 3
   },
   "file_extension": ".py",
   "mimetype": "text/x-python",
   "name": "python",
   "nbconvert_exporter": "python",
   "pygments_lexer": "ipython3",
   "version": "3.11.3"
  }
 },
 "nbformat": 4,
 "nbformat_minor": 4
}
