{
 "cells": [
  {
   "cell_type": "markdown",
   "id": "60d83e5f",
   "metadata": {},
   "source": [
    "### Задача 1\n",
    "\n",
    "Мьютекс через редис"
   ]
  },
  {
   "cell_type": "code",
   "execution_count": 1,
   "id": "9da4413e",
   "metadata": {},
   "outputs": [
    {
     "name": "stdout",
     "output_type": "stream",
     "text": [
      "2\n"
     ]
    }
   ],
   "source": [
    "import time\n",
    "from concurrent.futures import ThreadPoolExecutor\n",
    "\n",
    "# mu = RedisLock()  # вот его нужно реализовать\n",
    "result = 0\n",
    "\n",
    "def function():\n",
    "     # with mu:\n",
    "        global result\n",
    "        r = result\n",
    "        time.sleep(1)\n",
    "        result = r + 1\n",
    "\n",
    "    \n",
    "def main():  \n",
    "    with ThreadPoolExecutor(max_workers=5) as executor:\n",
    "        for _ in range(10):\n",
    "            executor.submit(function)\n",
    "    print(result)  # хотим получить в итоге 10\n",
    "    \n",
    "main()"
   ]
  },
  {
   "cell_type": "code",
   "execution_count": null,
   "id": "2964758e",
   "metadata": {},
   "outputs": [],
   "source": []
  }
 ],
 "metadata": {
  "kernelspec": {
   "display_name": "Python 3 (ipykernel)",
   "language": "python",
   "name": "python3"
  },
  "language_info": {
   "codemirror_mode": {
    "name": "ipython",
    "version": 3
   },
   "file_extension": ".py",
   "mimetype": "text/x-python",
   "name": "python",
   "nbconvert_exporter": "python",
   "pygments_lexer": "ipython3",
   "version": "3.11.3"
  }
 },
 "nbformat": 4,
 "nbformat_minor": 5
}
